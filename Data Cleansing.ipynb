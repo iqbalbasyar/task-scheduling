{
 "cells": [
  {
   "cell_type": "code",
   "execution_count": 1,
   "metadata": {},
   "outputs": [],
   "source": [
    "import pandas as pd\n",
    "import numpy as np"
   ]
  },
  {
   "cell_type": "code",
   "execution_count": 150,
   "metadata": {},
   "outputs": [],
   "source": [
    "mhs = pd.read_excel('data/data95.xlsx', sheet_name='mahasiswa').dropna()\n",
    "\n",
    "ruang = pd.read_excel('data/data95.xlsx', sheet_name='ruang', header=None, names=['ruang'])\n",
    "ruang['kk'] = ['ALL','ICM','TELE','TELE','TELE','TELE','SIDE, MCE','SIDE, MCE','SIDE, MCE','SIDE, MCE','ICM, MCE','ICM, MCE','ICM, MCE']\n",
    "\n",
    "dosen =  pd.read_excel('data/data95.xlsx', sheet_name='dosen', header=None, na_values='None').iloc[:, [0,-1]].dropna()\n",
    "dosen.columns = ['kode', 'kk']\n",
    "\n",
    "jadwal = pd.read_excel('data/data95.xlsx', sheet_name='jadwal')\n",
    "\n",
    "\n",
    "#masking\n",
    "_nama = [f\"mhs_{i}\" for i in range(len(mhs))]\n",
    "_nim = [f\"nim_{i}\" for i in range(len(mhs))]\n",
    "_dosen = [f\"dosen_{i}\" for i in range(len(dosen))]\n",
    "_judul = [f\"judul_{i}\" for i in range(len(mhs))]\n",
    "dosen_map = dict(zip(dosen.kode, _dosen))\n",
    "\n",
    "mhs['Nama'] = _nama\n",
    "mhs['NIM'] = _nim\n",
    "mhs['Judul TA'] = _judul\n",
    "mhs[['DosPem 1', 'DosPem 2']] = mhs[['DosPem 1', 'DosPem 2']].replace(dosen_map)\n",
    "\n",
    "dosen['kode'] = _dosen\n",
    "\n",
    "jadwal['Teachers'] = jadwal['Teachers'].replace(dosen_map)\n",
    "\n",
    "#column renaming \n",
    "mhs.columns = ['nama', 'nim', 'dp1', 'dp2', 'judul_ta']\n",
    "jadwal.columns = ['dosen', 'day', 'time']\n"
   ]
  },
  {
   "cell_type": "code",
   "execution_count": 151,
   "metadata": {},
   "outputs": [
    {
     "data": {
      "text/plain": [
       "array(['06:30', '13:30', '15:30', '09:30'], dtype=object)"
      ]
     },
     "execution_count": 151,
     "metadata": {},
     "output_type": "execute_result"
    }
   ],
   "source": [
    "jadwal.time.unique()"
   ]
  },
  {
   "cell_type": "markdown",
   "metadata": {},
   "source": [
    "constraint : \n",
    "we will be schedule the students on these hours : \n",
    "- 08:00\n",
    "- 09:30\n",
    "- 13:30\n",
    "- 15:30\n",
    "\n",
    "Each student are given 90mins for each schedule"
   ]
  },
  {
   "cell_type": "code",
   "execution_count": 152,
   "metadata": {},
   "outputs": [],
   "source": [
    "jadwal['val'] = 1\n",
    "# add '08:00' to the schedule and remove '6:30'"
   ]
  },
  {
   "cell_type": "code",
   "execution_count": 153,
   "metadata": {},
   "outputs": [],
   "source": [
    "_df = pd.DataFrame(\n",
    "    [['Senin', 'Selasa', 'Rabu', 'Kamis', 'Jumat'],\n",
    "    [0,0,0,0,0],\n",
    "    ['08:00','08:00','08:00','08:00','08:00'],\n",
    "    ['dosen_0','dosen_0','dosen_0','dosen_0','dosen_0']],\n",
    "    index=['day', 'val', 'time', 'dosen']\n",
    ").T\n",
    "jadwal = jadwal.append(_df)"
   ]
  },
  {
   "cell_type": "code",
   "execution_count": 155,
   "metadata": {},
   "outputs": [],
   "source": [
    "cond = jadwal['time'] == '06:30'\n",
    "jadwal = jadwal[~cond]"
   ]
  },
  {
   "cell_type": "code",
   "execution_count": 156,
   "metadata": {},
   "outputs": [],
   "source": [
    "jadwal_dosen_wide = jadwal.pivot_table(\n",
    "    index='dosen', \n",
    "    columns=['day', 'time'],\n",
    "    values='val', \n",
    "    aggfunc='sum'\n",
    ").fillna(0)[['Senin', 'Selasa', 'Rabu', 'Kamis','Jumat']]"
   ]
  },
  {
   "cell_type": "code",
   "execution_count": 157,
   "metadata": {},
   "outputs": [],
   "source": [
    "from natsort import natsorted\n",
    "idx = natsorted(jadwal_dosen_wide.index.values.tolist())"
   ]
  },
  {
   "cell_type": "code",
   "execution_count": 158,
   "metadata": {},
   "outputs": [],
   "source": [
    "jadwal_dosen_wide = jadwal_dosen_wide.reindex(idx)\n",
    "jadwal_dosen_long = jadwal_dosen_wide.stack(level=0).stack().reset_index().rename(columns={0:'val'})"
   ]
  },
  {
   "cell_type": "code",
   "execution_count": 159,
   "metadata": {},
   "outputs": [],
   "source": [
    "cond =  mhs['dp2'] == '-'"
   ]
  },
  {
   "cell_type": "code",
   "execution_count": 163,
   "metadata": {},
   "outputs": [
    {
     "data": {
      "text/html": [
       "<div>\n",
       "<style scoped>\n",
       "    .dataframe tbody tr th:only-of-type {\n",
       "        vertical-align: middle;\n",
       "    }\n",
       "\n",
       "    .dataframe tbody tr th {\n",
       "        vertical-align: top;\n",
       "    }\n",
       "\n",
       "    .dataframe thead th {\n",
       "        text-align: right;\n",
       "    }\n",
       "</style>\n",
       "<table border=\"1\" class=\"dataframe\">\n",
       "  <thead>\n",
       "    <tr style=\"text-align: right;\">\n",
       "      <th></th>\n",
       "      <th>nama</th>\n",
       "      <th>nim</th>\n",
       "      <th>dp1</th>\n",
       "      <th>dp2</th>\n",
       "      <th>judul_ta</th>\n",
       "    </tr>\n",
       "  </thead>\n",
       "  <tbody>\n",
       "    <tr>\n",
       "      <th>0</th>\n",
       "      <td>mhs_0</td>\n",
       "      <td>nim_0</td>\n",
       "      <td>dosen_69</td>\n",
       "      <td>dosen_61</td>\n",
       "      <td>judul_0</td>\n",
       "    </tr>\n",
       "    <tr>\n",
       "      <th>1</th>\n",
       "      <td>mhs_1</td>\n",
       "      <td>nim_1</td>\n",
       "      <td>dosen_20</td>\n",
       "      <td>-</td>\n",
       "      <td>judul_1</td>\n",
       "    </tr>\n",
       "    <tr>\n",
       "      <th>2</th>\n",
       "      <td>mhs_2</td>\n",
       "      <td>nim_2</td>\n",
       "      <td>dosen_19</td>\n",
       "      <td>dosen_2</td>\n",
       "      <td>judul_2</td>\n",
       "    </tr>\n",
       "    <tr>\n",
       "      <th>3</th>\n",
       "      <td>mhs_3</td>\n",
       "      <td>nim_3</td>\n",
       "      <td>dosen_44</td>\n",
       "      <td>-</td>\n",
       "      <td>judul_3</td>\n",
       "    </tr>\n",
       "    <tr>\n",
       "      <th>4</th>\n",
       "      <td>mhs_4</td>\n",
       "      <td>nim_4</td>\n",
       "      <td>dosen_4</td>\n",
       "      <td>dosen_2</td>\n",
       "      <td>judul_4</td>\n",
       "    </tr>\n",
       "    <tr>\n",
       "      <th>...</th>\n",
       "      <td>...</td>\n",
       "      <td>...</td>\n",
       "      <td>...</td>\n",
       "      <td>...</td>\n",
       "      <td>...</td>\n",
       "    </tr>\n",
       "    <tr>\n",
       "      <th>119</th>\n",
       "      <td>mhs_119</td>\n",
       "      <td>nim_119</td>\n",
       "      <td>dosen_43</td>\n",
       "      <td>dosen_48</td>\n",
       "      <td>judul_119</td>\n",
       "    </tr>\n",
       "    <tr>\n",
       "      <th>120</th>\n",
       "      <td>mhs_120</td>\n",
       "      <td>nim_120</td>\n",
       "      <td>dosen_33</td>\n",
       "      <td>dosen_45</td>\n",
       "      <td>judul_120</td>\n",
       "    </tr>\n",
       "    <tr>\n",
       "      <th>121</th>\n",
       "      <td>mhs_121</td>\n",
       "      <td>nim_121</td>\n",
       "      <td>dosen_44</td>\n",
       "      <td>dosen_36</td>\n",
       "      <td>judul_121</td>\n",
       "    </tr>\n",
       "    <tr>\n",
       "      <th>122</th>\n",
       "      <td>mhs_122</td>\n",
       "      <td>nim_122</td>\n",
       "      <td>dosen_33</td>\n",
       "      <td>dosen_38</td>\n",
       "      <td>judul_122</td>\n",
       "    </tr>\n",
       "    <tr>\n",
       "      <th>123</th>\n",
       "      <td>mhs_123</td>\n",
       "      <td>nim_123</td>\n",
       "      <td>dosen_33</td>\n",
       "      <td>dosen_45</td>\n",
       "      <td>judul_123</td>\n",
       "    </tr>\n",
       "  </tbody>\n",
       "</table>\n",
       "<p>124 rows × 5 columns</p>\n",
       "</div>"
      ],
      "text/plain": [
       "        nama      nim       dp1       dp2   judul_ta\n",
       "0      mhs_0    nim_0  dosen_69  dosen_61    judul_0\n",
       "1      mhs_1    nim_1  dosen_20         -    judul_1\n",
       "2      mhs_2    nim_2  dosen_19   dosen_2    judul_2\n",
       "3      mhs_3    nim_3  dosen_44         -    judul_3\n",
       "4      mhs_4    nim_4   dosen_4   dosen_2    judul_4\n",
       "..       ...      ...       ...       ...        ...\n",
       "119  mhs_119  nim_119  dosen_43  dosen_48  judul_119\n",
       "120  mhs_120  nim_120  dosen_33  dosen_45  judul_120\n",
       "121  mhs_121  nim_121  dosen_44  dosen_36  judul_121\n",
       "122  mhs_122  nim_122  dosen_33  dosen_38  judul_122\n",
       "123  mhs_123  nim_123  dosen_33  dosen_45  judul_123\n",
       "\n",
       "[124 rows x 5 columns]"
      ]
     },
     "execution_count": 163,
     "metadata": {},
     "output_type": "execute_result"
    }
   ],
   "source": [
    "mhs"
   ]
  },
  {
   "cell_type": "code",
   "execution_count": 164,
   "metadata": {},
   "outputs": [],
   "source": [
    "mhs.dp2 = mhs.dp2.replace('-','') + (mhs.dp1 * cond)"
   ]
  },
  {
   "cell_type": "code",
   "execution_count": 165,
   "metadata": {},
   "outputs": [
    {
     "data": {
      "text/html": [
       "<div>\n",
       "<style scoped>\n",
       "    .dataframe tbody tr th:only-of-type {\n",
       "        vertical-align: middle;\n",
       "    }\n",
       "\n",
       "    .dataframe tbody tr th {\n",
       "        vertical-align: top;\n",
       "    }\n",
       "\n",
       "    .dataframe thead th {\n",
       "        text-align: right;\n",
       "    }\n",
       "</style>\n",
       "<table border=\"1\" class=\"dataframe\">\n",
       "  <thead>\n",
       "    <tr style=\"text-align: right;\">\n",
       "      <th></th>\n",
       "      <th>nama</th>\n",
       "      <th>nim</th>\n",
       "      <th>dp1</th>\n",
       "      <th>dp2</th>\n",
       "      <th>judul_ta</th>\n",
       "    </tr>\n",
       "  </thead>\n",
       "  <tbody>\n",
       "    <tr>\n",
       "      <th>0</th>\n",
       "      <td>mhs_0</td>\n",
       "      <td>nim_0</td>\n",
       "      <td>dosen_69</td>\n",
       "      <td>dosen_61</td>\n",
       "      <td>judul_0</td>\n",
       "    </tr>\n",
       "    <tr>\n",
       "      <th>1</th>\n",
       "      <td>mhs_1</td>\n",
       "      <td>nim_1</td>\n",
       "      <td>dosen_20</td>\n",
       "      <td>dosen_20</td>\n",
       "      <td>judul_1</td>\n",
       "    </tr>\n",
       "    <tr>\n",
       "      <th>2</th>\n",
       "      <td>mhs_2</td>\n",
       "      <td>nim_2</td>\n",
       "      <td>dosen_19</td>\n",
       "      <td>dosen_2</td>\n",
       "      <td>judul_2</td>\n",
       "    </tr>\n",
       "    <tr>\n",
       "      <th>3</th>\n",
       "      <td>mhs_3</td>\n",
       "      <td>nim_3</td>\n",
       "      <td>dosen_44</td>\n",
       "      <td>dosen_44</td>\n",
       "      <td>judul_3</td>\n",
       "    </tr>\n",
       "    <tr>\n",
       "      <th>4</th>\n",
       "      <td>mhs_4</td>\n",
       "      <td>nim_4</td>\n",
       "      <td>dosen_4</td>\n",
       "      <td>dosen_2</td>\n",
       "      <td>judul_4</td>\n",
       "    </tr>\n",
       "    <tr>\n",
       "      <th>...</th>\n",
       "      <td>...</td>\n",
       "      <td>...</td>\n",
       "      <td>...</td>\n",
       "      <td>...</td>\n",
       "      <td>...</td>\n",
       "    </tr>\n",
       "    <tr>\n",
       "      <th>119</th>\n",
       "      <td>mhs_119</td>\n",
       "      <td>nim_119</td>\n",
       "      <td>dosen_43</td>\n",
       "      <td>dosen_48</td>\n",
       "      <td>judul_119</td>\n",
       "    </tr>\n",
       "    <tr>\n",
       "      <th>120</th>\n",
       "      <td>mhs_120</td>\n",
       "      <td>nim_120</td>\n",
       "      <td>dosen_33</td>\n",
       "      <td>dosen_45</td>\n",
       "      <td>judul_120</td>\n",
       "    </tr>\n",
       "    <tr>\n",
       "      <th>121</th>\n",
       "      <td>mhs_121</td>\n",
       "      <td>nim_121</td>\n",
       "      <td>dosen_44</td>\n",
       "      <td>dosen_36</td>\n",
       "      <td>judul_121</td>\n",
       "    </tr>\n",
       "    <tr>\n",
       "      <th>122</th>\n",
       "      <td>mhs_122</td>\n",
       "      <td>nim_122</td>\n",
       "      <td>dosen_33</td>\n",
       "      <td>dosen_38</td>\n",
       "      <td>judul_122</td>\n",
       "    </tr>\n",
       "    <tr>\n",
       "      <th>123</th>\n",
       "      <td>mhs_123</td>\n",
       "      <td>nim_123</td>\n",
       "      <td>dosen_33</td>\n",
       "      <td>dosen_45</td>\n",
       "      <td>judul_123</td>\n",
       "    </tr>\n",
       "  </tbody>\n",
       "</table>\n",
       "<p>124 rows × 5 columns</p>\n",
       "</div>"
      ],
      "text/plain": [
       "        nama      nim       dp1       dp2   judul_ta\n",
       "0      mhs_0    nim_0  dosen_69  dosen_61    judul_0\n",
       "1      mhs_1    nim_1  dosen_20  dosen_20    judul_1\n",
       "2      mhs_2    nim_2  dosen_19   dosen_2    judul_2\n",
       "3      mhs_3    nim_3  dosen_44  dosen_44    judul_3\n",
       "4      mhs_4    nim_4   dosen_4   dosen_2    judul_4\n",
       "..       ...      ...       ...       ...        ...\n",
       "119  mhs_119  nim_119  dosen_43  dosen_48  judul_119\n",
       "120  mhs_120  nim_120  dosen_33  dosen_45  judul_120\n",
       "121  mhs_121  nim_121  dosen_44  dosen_36  judul_121\n",
       "122  mhs_122  nim_122  dosen_33  dosen_38  judul_122\n",
       "123  mhs_123  nim_123  dosen_33  dosen_45  judul_123\n",
       "\n",
       "[124 rows x 5 columns]"
      ]
     },
     "execution_count": 165,
     "metadata": {},
     "output_type": "execute_result"
    }
   ],
   "source": [
    "mhs"
   ]
  },
  {
   "cell_type": "code",
   "execution_count": 167,
   "metadata": {},
   "outputs": [
    {
     "data": {
      "text/plain": [
       "(1580, 124)"
      ]
     },
     "execution_count": 167,
     "metadata": {},
     "output_type": "execute_result"
    }
   ],
   "source": [
    "jadwal_dosen_wide.size, len(mhs)"
   ]
  },
  {
   "cell_type": "code",
   "execution_count": 176,
   "metadata": {},
   "outputs": [],
   "source": [
    "mhs.to_csv('mahasiswa.csv', index=False)"
   ]
  },
  {
   "cell_type": "code",
   "execution_count": 181,
   "metadata": {},
   "outputs": [],
   "source": [
    "jadwal_dosen_long.to_csv('jadwal_dosen.csv', index=False)"
   ]
  },
  {
   "cell_type": "code",
   "execution_count": 183,
   "metadata": {},
   "outputs": [],
   "source": [
    "ruang.to_csv('ruang.csv', index=False)"
   ]
  },
  {
   "cell_type": "code",
   "execution_count": 185,
   "metadata": {},
   "outputs": [],
   "source": [
    "dosen.to_csv('dosen.csv', index=False)"
   ]
  },
  {
   "cell_type": "markdown",
   "metadata": {},
   "source": [
    "# Prblem Complexity\n",
    "Menjadwalkan : \n",
    "- m = 1 mahasiswa (kemunginan : 124)\n",
    "- d = 1 atau 2 dosen untuk mendampingi (kemungkinan : 3)\n",
    "- s = pada 1 slot tempat x waktu (kemngkinan: 13 * 20)\n",
    "\n",
    "Complexity : $$ C_{m \\times d}^s$$\n",
    "\n",
    "Order of Complexity : Combinatorial"
   ]
  },
  {
   "cell_type": "code",
   "execution_count": 174,
   "metadata": {},
   "outputs": [
    {
     "data": {
      "text/plain": [
       "30917575600039935319436951333953035261042106084305298821020346950246779237134842949133981196509641"
      ]
     },
     "execution_count": 174,
     "metadata": {},
     "output_type": "execute_result"
    }
   ],
   "source": [
    "comb((124 * 3), (13*20))"
   ]
  },
  {
   "cell_type": "code",
   "execution_count": null,
   "metadata": {},
   "outputs": [],
   "source": []
  }
 ],
 "metadata": {
  "kernelspec": {
   "display_name": "Tensorflow",
   "language": "python",
   "name": "tf"
  },
  "language_info": {
   "codemirror_mode": {
    "name": "ipython",
    "version": 3
   },
   "file_extension": ".py",
   "mimetype": "text/x-python",
   "name": "python",
   "nbconvert_exporter": "python",
   "pygments_lexer": "ipython3",
   "version": "3.8.3"
  }
 },
 "nbformat": 4,
 "nbformat_minor": 4
}
