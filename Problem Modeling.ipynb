{
 "cells": [
  {
   "cell_type": "markdown",
   "metadata": {},
   "source": [
    "# Task Scheduling with Swarm Intelligence \n",
    "an Introduction with case : Penjadwalan Sidang Mahasiswa Tingkat Akhirat"
   ]
  },
  {
   "cell_type": "markdown",
   "metadata": {},
   "source": [
    "___"
   ]
  },
  {
   "cell_type": "code",
   "execution_count": 1,
   "metadata": {},
   "outputs": [],
   "source": [
    "import pandas as pd\n",
    "import numpy as np\n",
    "import math\n",
    "from natsort import natsorted\n",
    "import warnings\n",
    "warnings.filterwarnings(\"ignore\")"
   ]
  },
  {
   "cell_type": "code",
   "execution_count": 2,
   "metadata": {},
   "outputs": [],
   "source": [
    "mhs = pd.read_csv('data/mahasiswa.csv')\n",
    "dosen = pd.read_csv('data/dosen.csv')\n",
    "ruang = pd.read_csv('data/ruang.csv')\n",
    "jadwal_dosen = pd.read_csv('data/jadwal_dosen.csv')"
   ]
  },
  {
   "cell_type": "markdown",
   "metadata": {},
   "source": [
    "### Problem Statement\n",
    "\n",
    "Task scheduling with constraints categorized into NP problem wich stands for Non Deterministic Polinomial that takes quick time to check whether the solution is correct or not, but takes long time to solve.\n",
    "\n",
    "![](assets/np_hardness.png)\n",
    "\n",
    "In this case we are having **124** students that need to be scheduled in **13** specific room at **20** available time slot. Each student should be acompanied with **at least one** teacher (max: 2). "
   ]
  },
  {
   "cell_type": "code",
   "execution_count": 3,
   "metadata": {},
   "outputs": [
    {
     "data": {
      "text/html": [
       "<div>\n",
       "<style scoped>\n",
       "    .dataframe tbody tr th:only-of-type {\n",
       "        vertical-align: middle;\n",
       "    }\n",
       "\n",
       "    .dataframe tbody tr th {\n",
       "        vertical-align: top;\n",
       "    }\n",
       "\n",
       "    .dataframe thead th {\n",
       "        text-align: right;\n",
       "    }\n",
       "</style>\n",
       "<table border=\"1\" class=\"dataframe\">\n",
       "  <thead>\n",
       "    <tr style=\"text-align: right;\">\n",
       "      <th></th>\n",
       "      <th>nama</th>\n",
       "      <th>nim</th>\n",
       "      <th>dp1</th>\n",
       "      <th>dp2</th>\n",
       "      <th>judul_ta</th>\n",
       "    </tr>\n",
       "  </thead>\n",
       "  <tbody>\n",
       "    <tr>\n",
       "      <th>0</th>\n",
       "      <td>mhs_0</td>\n",
       "      <td>nim_0</td>\n",
       "      <td>dosen_69</td>\n",
       "      <td>dosen_61</td>\n",
       "      <td>judul_0</td>\n",
       "    </tr>\n",
       "    <tr>\n",
       "      <th>1</th>\n",
       "      <td>mhs_1</td>\n",
       "      <td>nim_1</td>\n",
       "      <td>dosen_20</td>\n",
       "      <td>dosen_20</td>\n",
       "      <td>judul_1</td>\n",
       "    </tr>\n",
       "    <tr>\n",
       "      <th>2</th>\n",
       "      <td>mhs_2</td>\n",
       "      <td>nim_2</td>\n",
       "      <td>dosen_19</td>\n",
       "      <td>dosen_2</td>\n",
       "      <td>judul_2</td>\n",
       "    </tr>\n",
       "    <tr>\n",
       "      <th>3</th>\n",
       "      <td>mhs_3</td>\n",
       "      <td>nim_3</td>\n",
       "      <td>dosen_44</td>\n",
       "      <td>dosen_44</td>\n",
       "      <td>judul_3</td>\n",
       "    </tr>\n",
       "    <tr>\n",
       "      <th>4</th>\n",
       "      <td>mhs_4</td>\n",
       "      <td>nim_4</td>\n",
       "      <td>dosen_4</td>\n",
       "      <td>dosen_2</td>\n",
       "      <td>judul_4</td>\n",
       "    </tr>\n",
       "    <tr>\n",
       "      <th>...</th>\n",
       "      <td>...</td>\n",
       "      <td>...</td>\n",
       "      <td>...</td>\n",
       "      <td>...</td>\n",
       "      <td>...</td>\n",
       "    </tr>\n",
       "    <tr>\n",
       "      <th>119</th>\n",
       "      <td>mhs_119</td>\n",
       "      <td>nim_119</td>\n",
       "      <td>dosen_43</td>\n",
       "      <td>dosen_48</td>\n",
       "      <td>judul_119</td>\n",
       "    </tr>\n",
       "    <tr>\n",
       "      <th>120</th>\n",
       "      <td>mhs_120</td>\n",
       "      <td>nim_120</td>\n",
       "      <td>dosen_33</td>\n",
       "      <td>dosen_45</td>\n",
       "      <td>judul_120</td>\n",
       "    </tr>\n",
       "    <tr>\n",
       "      <th>121</th>\n",
       "      <td>mhs_121</td>\n",
       "      <td>nim_121</td>\n",
       "      <td>dosen_44</td>\n",
       "      <td>dosen_36</td>\n",
       "      <td>judul_121</td>\n",
       "    </tr>\n",
       "    <tr>\n",
       "      <th>122</th>\n",
       "      <td>mhs_122</td>\n",
       "      <td>nim_122</td>\n",
       "      <td>dosen_33</td>\n",
       "      <td>dosen_38</td>\n",
       "      <td>judul_122</td>\n",
       "    </tr>\n",
       "    <tr>\n",
       "      <th>123</th>\n",
       "      <td>mhs_123</td>\n",
       "      <td>nim_123</td>\n",
       "      <td>dosen_33</td>\n",
       "      <td>dosen_45</td>\n",
       "      <td>judul_123</td>\n",
       "    </tr>\n",
       "  </tbody>\n",
       "</table>\n",
       "<p>124 rows × 5 columns</p>\n",
       "</div>"
      ],
      "text/plain": [
       "        nama      nim       dp1       dp2   judul_ta\n",
       "0      mhs_0    nim_0  dosen_69  dosen_61    judul_0\n",
       "1      mhs_1    nim_1  dosen_20  dosen_20    judul_1\n",
       "2      mhs_2    nim_2  dosen_19   dosen_2    judul_2\n",
       "3      mhs_3    nim_3  dosen_44  dosen_44    judul_3\n",
       "4      mhs_4    nim_4   dosen_4   dosen_2    judul_4\n",
       "..       ...      ...       ...       ...        ...\n",
       "119  mhs_119  nim_119  dosen_43  dosen_48  judul_119\n",
       "120  mhs_120  nim_120  dosen_33  dosen_45  judul_120\n",
       "121  mhs_121  nim_121  dosen_44  dosen_36  judul_121\n",
       "122  mhs_122  nim_122  dosen_33  dosen_38  judul_122\n",
       "123  mhs_123  nim_123  dosen_33  dosen_45  judul_123\n",
       "\n",
       "[124 rows x 5 columns]"
      ]
     },
     "execution_count": 3,
     "metadata": {},
     "output_type": "execute_result"
    }
   ],
   "source": [
    "mhs"
   ]
  },
  {
   "cell_type": "code",
   "execution_count": 4,
   "metadata": {},
   "outputs": [
    {
     "data": {
      "text/html": [
       "<div>\n",
       "<style scoped>\n",
       "    .dataframe tbody tr th:only-of-type {\n",
       "        vertical-align: middle;\n",
       "    }\n",
       "\n",
       "    .dataframe tbody tr th {\n",
       "        vertical-align: top;\n",
       "    }\n",
       "\n",
       "    .dataframe thead th {\n",
       "        text-align: right;\n",
       "    }\n",
       "</style>\n",
       "<table border=\"1\" class=\"dataframe\">\n",
       "  <thead>\n",
       "    <tr style=\"text-align: right;\">\n",
       "      <th></th>\n",
       "      <th>ruang</th>\n",
       "      <th>kk</th>\n",
       "    </tr>\n",
       "  </thead>\n",
       "  <tbody>\n",
       "    <tr>\n",
       "      <th>0</th>\n",
       "      <td>Ruang Rapat Gedung D lt 1</td>\n",
       "      <td>ALL</td>\n",
       "    </tr>\n",
       "    <tr>\n",
       "      <th>1</th>\n",
       "      <td>Ruang Rapat ICM</td>\n",
       "      <td>ICM</td>\n",
       "    </tr>\n",
       "    <tr>\n",
       "      <th>2</th>\n",
       "      <td>Lab UC</td>\n",
       "      <td>TELE</td>\n",
       "    </tr>\n",
       "    <tr>\n",
       "      <th>3</th>\n",
       "      <td>Lab HES</td>\n",
       "      <td>TELE</td>\n",
       "    </tr>\n",
       "    <tr>\n",
       "      <th>4</th>\n",
       "      <td>Lab NOS</td>\n",
       "      <td>TELE</td>\n",
       "    </tr>\n",
       "    <tr>\n",
       "      <th>5</th>\n",
       "      <td>Lab Foresty</td>\n",
       "      <td>TELE</td>\n",
       "    </tr>\n",
       "    <tr>\n",
       "      <th>6</th>\n",
       "      <td>Lab DMC</td>\n",
       "      <td>SIDE, MCE</td>\n",
       "    </tr>\n",
       "    <tr>\n",
       "      <th>7</th>\n",
       "      <td>Lab RPL</td>\n",
       "      <td>SIDE, MCE</td>\n",
       "    </tr>\n",
       "    <tr>\n",
       "      <th>8</th>\n",
       "      <td>Lab Tel-C</td>\n",
       "      <td>SIDE, MCE</td>\n",
       "    </tr>\n",
       "    <tr>\n",
       "      <th>9</th>\n",
       "      <td>Lab Basis Data</td>\n",
       "      <td>SIDE, MCE</td>\n",
       "    </tr>\n",
       "    <tr>\n",
       "      <th>10</th>\n",
       "      <td>Lab Komputasi</td>\n",
       "      <td>ICM, MCE</td>\n",
       "    </tr>\n",
       "    <tr>\n",
       "      <th>11</th>\n",
       "      <td>Lab AI</td>\n",
       "      <td>ICM, MCE</td>\n",
       "    </tr>\n",
       "    <tr>\n",
       "      <th>12</th>\n",
       "      <td>Lab Multimedia</td>\n",
       "      <td>ICM, MCE</td>\n",
       "    </tr>\n",
       "  </tbody>\n",
       "</table>\n",
       "</div>"
      ],
      "text/plain": [
       "                        ruang         kk\n",
       "0   Ruang Rapat Gedung D lt 1        ALL\n",
       "1             Ruang Rapat ICM        ICM\n",
       "2                      Lab UC       TELE\n",
       "3                     Lab HES       TELE\n",
       "4                     Lab NOS       TELE\n",
       "5                 Lab Foresty       TELE\n",
       "6                     Lab DMC  SIDE, MCE\n",
       "7                     Lab RPL  SIDE, MCE\n",
       "8                   Lab Tel-C  SIDE, MCE\n",
       "9              Lab Basis Data  SIDE, MCE\n",
       "10              Lab Komputasi   ICM, MCE\n",
       "11                     Lab AI   ICM, MCE\n",
       "12             Lab Multimedia   ICM, MCE"
      ]
     },
     "execution_count": 4,
     "metadata": {},
     "output_type": "execute_result"
    }
   ],
   "source": [
    "ruang"
   ]
  },
  {
   "cell_type": "markdown",
   "metadata": {},
   "source": [
    "### Problem Complexity\n",
    "Menjadwalkan : \n",
    "- m = 1 mahasiswa (kemunginan : 124)\n",
    "- s = pada 1 slot tempat x waktu (kemngkinan: 13 * 20)\n",
    "- d = 1 atau 2 dosen untuk mendampingi (kemungkinan : 3)\n",
    "\n",
    "Complexity : $$ C_{m}^s \\times d$$\n",
    "\n",
    "Order of Complexity : Combinatorial"
   ]
  },
  {
   "cell_type": "code",
   "execution_count": 6,
   "metadata": {},
   "outputs": [
    {
     "data": {
      "text/plain": [
       "208501360578020938029361385623653699574688684968360947127928832021966924612000"
      ]
     },
     "execution_count": 6,
     "metadata": {},
     "output_type": "execute_result"
    }
   ],
   "source": [
    "math.comb((13*20), 124) * 3"
   ]
  },
  {
   "cell_type": "code",
   "execution_count": 7,
   "metadata": {},
   "outputs": [],
   "source": [
    "from natsort import natsorted\n",
    "jdw = jadwal_dosen.pivot_table(\n",
    "    index='dosen', \n",
    "    columns=['day', 'time'], \n",
    "    values='val',\n",
    "    aggfunc='sum'\n",
    ")[['Senin', 'Selasa', 'Rabu', 'Kamis', 'Jumat']]\n",
    "\n",
    "jdw = jdw.reindex(natsorted(jdw.index))\n",
    "# jdw"
   ]
  },
  {
   "cell_type": "code",
   "execution_count": 8,
   "metadata": {},
   "outputs": [],
   "source": [
    "jdw.columns = jdw.columns.map('_'.join)\n",
    "# jdw"
   ]
  },
  {
   "cell_type": "markdown",
   "metadata": {},
   "source": [
    "# How to Solve the Problem \n",
    "1. Meta-Heuristic Searching : Swarm Intelligence\n",
    "1. Reinforcement Learning\n"
   ]
  },
  {
   "cell_type": "markdown",
   "metadata": {},
   "source": [
    "___"
   ]
  },
  {
   "cell_type": "markdown",
   "metadata": {},
   "source": [
    "## Swarm Intelligence"
   ]
  },
  {
   "cell_type": "markdown",
   "metadata": {},
   "source": [
    "![](assets/ai.png)"
   ]
  },
  {
   "cell_type": "markdown",
   "metadata": {},
   "source": [
    "**TLDR : Swarm intelligence is Optimization Technique insipired by Swarm Behaviour in Nature**"
   ]
  },
  {
   "cell_type": "markdown",
   "metadata": {},
   "source": [
    "Some reference on Swarm Intelligence Algorithms: \n",
    "- [Ant Colony Optimization](https://en.wikipedia.org/wiki/Ant_colony_optimization_algorithms)\n",
    "- [Bat Algorithm](https://www.researchgate.net/publication/255971823_Bat_Algorithm_Literature_Review_and_Applications)\n",
    "- [Bee Colony Optimization](https://www.researchgate.net/publication/226530817_Bee_colony_optimization_BCO)\n",
    "- [Cat Swarm Optimization](https://www.researchgate.net/publication/221419703_Cat_Swarm_Optimization)\n",
    "- [Cuckoo Algorithm](https://www.sciencedirect.com/science/article/pii/S2210832717301679)\n",
    "- [Dolphin Swarm Algorithm](https://link.springer.com/article/10.1631/FITEE.1500287)\n",
    "- [Firefly Algorithm](https://www.sciencedirect.com/topics/engineering/firefly-algorithm)\n",
    "- [Particle Swarm Optimization](https://www.sciencedirect.com/topics/engineering/particle-swarm-optimization)\n"
   ]
  },
  {
   "cell_type": "markdown",
   "metadata": {},
   "source": [
    "## 1. State Definition \n",
    "Model a problem into measurable state"
   ]
  },
  {
   "cell_type": "code",
   "execution_count": 9,
   "metadata": {},
   "outputs": [],
   "source": [
    "state = mhs[['nama']]\n",
    "state['dp1'] = 0\n",
    "state['dp2'] = 0 \n",
    "state['ruang'] = np.random.choice(ruang.ruang, size=len(mhs))\n",
    "# state['time'] = np.random.choice(jadwal_dosen['time'].unique(),  size=len(mhs))\n",
    "state['slot'] = np.random.randint(0,20, size=len(mhs))"
   ]
  },
  {
   "cell_type": "code",
   "execution_count": 10,
   "metadata": {},
   "outputs": [],
   "source": [
    "def random_sol(to_df=False):\n",
    "    sol = np.zeros(shape=(len(mhs),4))\n",
    "    sol[:,0] = np.random.randint(0,2, size=len(mhs)) #dp1\n",
    "    sol[:,1] = np.random.randint(0,2, size=len(mhs)) #dp2\n",
    "    sol[:,2] = np.random.randint(0,len(ruang), size=len(mhs)) #ruang\n",
    "    sol[:,3] = np.random.randint(0,20, size=len(mhs))\n",
    "    \n",
    "    if to_df :\n",
    "        df = pd.DataFrame(sol, columns=['dp1', 'dp2', 'ruang', 'slot'])\n",
    "        return df\n",
    "    else: return sol\n",
    "    \n",
    "ub = [1,1,len(ruang)-1, 19]\n",
    "lb = [0,0,0,0]"
   ]
  },
  {
   "cell_type": "code",
   "execution_count": 11,
   "metadata": {},
   "outputs": [
    {
     "data": {
      "text/html": [
       "<div>\n",
       "<style scoped>\n",
       "    .dataframe tbody tr th:only-of-type {\n",
       "        vertical-align: middle;\n",
       "    }\n",
       "\n",
       "    .dataframe tbody tr th {\n",
       "        vertical-align: top;\n",
       "    }\n",
       "\n",
       "    .dataframe thead th {\n",
       "        text-align: right;\n",
       "    }\n",
       "</style>\n",
       "<table border=\"1\" class=\"dataframe\">\n",
       "  <thead>\n",
       "    <tr style=\"text-align: right;\">\n",
       "      <th></th>\n",
       "      <th>nama</th>\n",
       "      <th>dp1</th>\n",
       "      <th>dp2</th>\n",
       "      <th>ruang</th>\n",
       "      <th>slot</th>\n",
       "    </tr>\n",
       "  </thead>\n",
       "  <tbody>\n",
       "    <tr>\n",
       "      <th>0</th>\n",
       "      <td>mhs_0</td>\n",
       "      <td>0</td>\n",
       "      <td>0</td>\n",
       "      <td>Lab NOS</td>\n",
       "      <td>5</td>\n",
       "    </tr>\n",
       "    <tr>\n",
       "      <th>1</th>\n",
       "      <td>mhs_1</td>\n",
       "      <td>0</td>\n",
       "      <td>0</td>\n",
       "      <td>Lab RPL</td>\n",
       "      <td>7</td>\n",
       "    </tr>\n",
       "    <tr>\n",
       "      <th>2</th>\n",
       "      <td>mhs_2</td>\n",
       "      <td>0</td>\n",
       "      <td>0</td>\n",
       "      <td>Lab NOS</td>\n",
       "      <td>1</td>\n",
       "    </tr>\n",
       "    <tr>\n",
       "      <th>3</th>\n",
       "      <td>mhs_3</td>\n",
       "      <td>0</td>\n",
       "      <td>0</td>\n",
       "      <td>Lab Tel-C</td>\n",
       "      <td>11</td>\n",
       "    </tr>\n",
       "    <tr>\n",
       "      <th>4</th>\n",
       "      <td>mhs_4</td>\n",
       "      <td>0</td>\n",
       "      <td>0</td>\n",
       "      <td>Lab Tel-C</td>\n",
       "      <td>15</td>\n",
       "    </tr>\n",
       "    <tr>\n",
       "      <th>...</th>\n",
       "      <td>...</td>\n",
       "      <td>...</td>\n",
       "      <td>...</td>\n",
       "      <td>...</td>\n",
       "      <td>...</td>\n",
       "    </tr>\n",
       "    <tr>\n",
       "      <th>119</th>\n",
       "      <td>mhs_119</td>\n",
       "      <td>0</td>\n",
       "      <td>0</td>\n",
       "      <td>Lab Multimedia</td>\n",
       "      <td>1</td>\n",
       "    </tr>\n",
       "    <tr>\n",
       "      <th>120</th>\n",
       "      <td>mhs_120</td>\n",
       "      <td>0</td>\n",
       "      <td>0</td>\n",
       "      <td>Lab HES</td>\n",
       "      <td>18</td>\n",
       "    </tr>\n",
       "    <tr>\n",
       "      <th>121</th>\n",
       "      <td>mhs_121</td>\n",
       "      <td>0</td>\n",
       "      <td>0</td>\n",
       "      <td>Lab Basis Data</td>\n",
       "      <td>1</td>\n",
       "    </tr>\n",
       "    <tr>\n",
       "      <th>122</th>\n",
       "      <td>mhs_122</td>\n",
       "      <td>0</td>\n",
       "      <td>0</td>\n",
       "      <td>Lab RPL</td>\n",
       "      <td>17</td>\n",
       "    </tr>\n",
       "    <tr>\n",
       "      <th>123</th>\n",
       "      <td>mhs_123</td>\n",
       "      <td>0</td>\n",
       "      <td>0</td>\n",
       "      <td>Ruang Rapat Gedung D lt 1</td>\n",
       "      <td>4</td>\n",
       "    </tr>\n",
       "  </tbody>\n",
       "</table>\n",
       "<p>124 rows × 5 columns</p>\n",
       "</div>"
      ],
      "text/plain": [
       "        nama  dp1  dp2                      ruang  slot\n",
       "0      mhs_0    0    0                    Lab NOS     5\n",
       "1      mhs_1    0    0                    Lab RPL     7\n",
       "2      mhs_2    0    0                    Lab NOS     1\n",
       "3      mhs_3    0    0                  Lab Tel-C    11\n",
       "4      mhs_4    0    0                  Lab Tel-C    15\n",
       "..       ...  ...  ...                        ...   ...\n",
       "119  mhs_119    0    0             Lab Multimedia     1\n",
       "120  mhs_120    0    0                    Lab HES    18\n",
       "121  mhs_121    0    0             Lab Basis Data     1\n",
       "122  mhs_122    0    0                    Lab RPL    17\n",
       "123  mhs_123    0    0  Ruang Rapat Gedung D lt 1     4\n",
       "\n",
       "[124 rows x 5 columns]"
      ]
     },
     "execution_count": 11,
     "metadata": {},
     "output_type": "execute_result"
    }
   ],
   "source": [
    "state"
   ]
  },
  {
   "cell_type": "markdown",
   "metadata": {},
   "source": [
    "solutions state would be like : \n"
   ]
  },
  {
   "cell_type": "code",
   "execution_count": 12,
   "metadata": {},
   "outputs": [],
   "source": [
    "no_to_ruang = ruang['ruang'].to_dict()\n",
    "ruang_to_no = { no_to_ruang[k]:k for k in no_to_ruang}\n",
    "\n",
    "no_to_slot = pd.Series(jdw.columns).to_dict()\n",
    "# slot_to_no = {no_to_jam[k]:k for k in no_to_jam}\n",
    "\n",
    "solstate = random_sol(to_df=True)"
   ]
  },
  {
   "cell_type": "code",
   "execution_count": 13,
   "metadata": {},
   "outputs": [
    {
     "data": {
      "text/html": [
       "<div>\n",
       "<style scoped>\n",
       "    .dataframe tbody tr th:only-of-type {\n",
       "        vertical-align: middle;\n",
       "    }\n",
       "\n",
       "    .dataframe tbody tr th {\n",
       "        vertical-align: top;\n",
       "    }\n",
       "\n",
       "    .dataframe thead th {\n",
       "        text-align: right;\n",
       "    }\n",
       "</style>\n",
       "<table border=\"1\" class=\"dataframe\">\n",
       "  <thead>\n",
       "    <tr style=\"text-align: right;\">\n",
       "      <th></th>\n",
       "      <th>dp1</th>\n",
       "      <th>dp2</th>\n",
       "      <th>ruang</th>\n",
       "      <th>slot</th>\n",
       "    </tr>\n",
       "  </thead>\n",
       "  <tbody>\n",
       "    <tr>\n",
       "      <th>0</th>\n",
       "      <td>1.0</td>\n",
       "      <td>1.0</td>\n",
       "      <td>11.0</td>\n",
       "      <td>11.0</td>\n",
       "    </tr>\n",
       "    <tr>\n",
       "      <th>1</th>\n",
       "      <td>1.0</td>\n",
       "      <td>0.0</td>\n",
       "      <td>9.0</td>\n",
       "      <td>5.0</td>\n",
       "    </tr>\n",
       "    <tr>\n",
       "      <th>2</th>\n",
       "      <td>0.0</td>\n",
       "      <td>0.0</td>\n",
       "      <td>11.0</td>\n",
       "      <td>15.0</td>\n",
       "    </tr>\n",
       "    <tr>\n",
       "      <th>3</th>\n",
       "      <td>0.0</td>\n",
       "      <td>1.0</td>\n",
       "      <td>4.0</td>\n",
       "      <td>8.0</td>\n",
       "    </tr>\n",
       "    <tr>\n",
       "      <th>4</th>\n",
       "      <td>1.0</td>\n",
       "      <td>0.0</td>\n",
       "      <td>7.0</td>\n",
       "      <td>17.0</td>\n",
       "    </tr>\n",
       "    <tr>\n",
       "      <th>...</th>\n",
       "      <td>...</td>\n",
       "      <td>...</td>\n",
       "      <td>...</td>\n",
       "      <td>...</td>\n",
       "    </tr>\n",
       "    <tr>\n",
       "      <th>119</th>\n",
       "      <td>0.0</td>\n",
       "      <td>1.0</td>\n",
       "      <td>8.0</td>\n",
       "      <td>17.0</td>\n",
       "    </tr>\n",
       "    <tr>\n",
       "      <th>120</th>\n",
       "      <td>0.0</td>\n",
       "      <td>1.0</td>\n",
       "      <td>11.0</td>\n",
       "      <td>17.0</td>\n",
       "    </tr>\n",
       "    <tr>\n",
       "      <th>121</th>\n",
       "      <td>0.0</td>\n",
       "      <td>0.0</td>\n",
       "      <td>12.0</td>\n",
       "      <td>11.0</td>\n",
       "    </tr>\n",
       "    <tr>\n",
       "      <th>122</th>\n",
       "      <td>1.0</td>\n",
       "      <td>0.0</td>\n",
       "      <td>6.0</td>\n",
       "      <td>18.0</td>\n",
       "    </tr>\n",
       "    <tr>\n",
       "      <th>123</th>\n",
       "      <td>0.0</td>\n",
       "      <td>0.0</td>\n",
       "      <td>8.0</td>\n",
       "      <td>15.0</td>\n",
       "    </tr>\n",
       "  </tbody>\n",
       "</table>\n",
       "<p>124 rows × 4 columns</p>\n",
       "</div>"
      ],
      "text/plain": [
       "     dp1  dp2  ruang  slot\n",
       "0    1.0  1.0   11.0  11.0\n",
       "1    1.0  0.0    9.0   5.0\n",
       "2    0.0  0.0   11.0  15.0\n",
       "3    0.0  1.0    4.0   8.0\n",
       "4    1.0  0.0    7.0  17.0\n",
       "..   ...  ...    ...   ...\n",
       "119  0.0  1.0    8.0  17.0\n",
       "120  0.0  1.0   11.0  17.0\n",
       "121  0.0  0.0   12.0  11.0\n",
       "122  1.0  0.0    6.0  18.0\n",
       "123  0.0  0.0    8.0  15.0\n",
       "\n",
       "[124 rows x 4 columns]"
      ]
     },
     "execution_count": 13,
     "metadata": {},
     "output_type": "execute_result"
    }
   ],
   "source": [
    "solstate"
   ]
  },
  {
   "cell_type": "code",
   "execution_count": 14,
   "metadata": {},
   "outputs": [],
   "source": [
    "a = solstate\n",
    "b = solstate"
   ]
  },
  {
   "cell_type": "markdown",
   "metadata": {},
   "source": [
    "## 2. Loss/Fit Function:\n",
    "- Jumlah dosen yang hadir  = a (Okupansi)\n",
    "- Jumlah bentrok jadwal dosen = b (Pelanggaran Constraint)\n",
    "- Kesesuaian kk ruang dan dosen = c (Pelanggaran Constraint)\n",
    "- durasi jadwal = d\n",
    "- Jumlah slot bentrok = e\n",
    "\n",
    "Minimalkan nilai e :\n",
    "\n",
    "$$ e = \\frac{\\beta \\cdot b + \\delta \\cdot d + \\epsilon \\cdot e}{\\alpha \\cdot a+ \\gamma \\cdot c }$$\n",
    "\n",
    "with \n",
    "- $\\alpha = 1$\n",
    "- $\\beta = 1$\n",
    "- $\\gamma = 1$\n",
    "- $\\delta = 1$\n",
    "- $\\epsilon = 1$\n",
    "\n"
   ]
  },
  {
   "cell_type": "code",
   "execution_count": 15,
   "metadata": {},
   "outputs": [],
   "source": [
    "def interpret(x):\n",
    "    _x = x.round().astype(int)\n",
    "    return np.clip(_x, lb, ub)"
   ]
  },
  {
   "cell_type": "code",
   "execution_count": 16,
   "metadata": {},
   "outputs": [],
   "source": [
    "def to_dataframe(x):\n",
    "    sol = pd.DataFrame(interpret(x))\n",
    "#     sol[2] = sol[2].replace(no_to_ruang)\n",
    "    sol.columns=['dp1', 'dp2', 'ruang', 'slot']\n",
    "    return sol"
   ]
  },
  {
   "cell_type": "code",
   "execution_count": 17,
   "metadata": {},
   "outputs": [],
   "source": [
    "def is_ngajar(dosen, slot, jadwal):\n",
    "    return jadwal.loc[dosen].iloc[slot]"
   ]
  },
  {
   "cell_type": "code",
   "execution_count": 18,
   "metadata": {},
   "outputs": [],
   "source": [
    "def cek_bentrok(df):\n",
    "    mhs_dosen = mhs.join(df, rsuffix='_target')\n",
    "    bentrok_dp1 = [is_ngajar(x['dp1'], x['slot'], jdw) for _, x in mhs_dosen.iterrows()] * mhs_dosen['dp1_target']\n",
    "    bentrok_dp2 = [is_ngajar(x['dp2'], x['slot'], jdw) for _, x in mhs_dosen.iterrows()] * mhs_dosen['dp2_target']\n",
    "    return bentrok_dp1.sum(), bentrok_dp2.sum()"
   ]
  },
  {
   "cell_type": "code",
   "execution_count": 19,
   "metadata": {},
   "outputs": [],
   "source": [
    "def fitness(x):\n",
    "    alpha = 2\n",
    "    beta = 1\n",
    "    gamma = 1\n",
    "    delta = 1 \n",
    "    epsilon = 2\n",
    "    df = to_dataframe(x)\n",
    "    \n",
    "    n_dosen_hadir = df[['dp1', 'dp2']].sum().sum()\n",
    "    n_bentrok_dosen_1, n_bentrok_dosen_2 = cek_bentrok(df)\n",
    "    n_bentrok_dosen = n_bentrok_dosen_1 + n_bentrok_dosen_2\n",
    "    n_notmatch = 0  # not yet implemented \n",
    "    durasi_jadwal = df['slot'].max() // 4\n",
    "    \n",
    "    n_slot_bentrok = (df.groupby(['ruang', 'slot']).count() - 1).sum().sum()\n",
    "    \n",
    "    return (beta*n_bentrok_dosen + delta*durasi_jadwal  + epsilon*n_slot_bentrok) / (alpha*n_dosen_hadir +  gamma*n_notmatch)"
   ]
  },
  {
   "cell_type": "markdown",
   "metadata": {},
   "source": [
    "## 3. Performance Metric \n",
    "- Berapa banyak Mahasiswa yang bisa sidang (okupansi)\n",
    "- Berapa banyak dosen yang melakukan sidang (okupansi)"
   ]
  },
  {
   "cell_type": "markdown",
   "metadata": {},
   "source": [
    "____\n"
   ]
  },
  {
   "cell_type": "markdown",
   "metadata": {},
   "source": [
    "# Particle Swarm Optimization Algorithm"
   ]
  },
  {
   "cell_type": "markdown",
   "metadata": {},
   "source": [
    "![](assets/pso.gif)"
   ]
  },
  {
   "cell_type": "markdown",
   "metadata": {},
   "source": [
    "1. Generate random agent/solution\n",
    "2. Measure fitness of each agents\n",
    "3. Set all agents to move closer to best agent"
   ]
  },
  {
   "cell_type": "code",
   "execution_count": 20,
   "metadata": {},
   "outputs": [],
   "source": [
    "n_population = 100\n",
    "learning_rate = 0.05\n",
    "epoch = 10"
   ]
  },
  {
   "cell_type": "code",
   "execution_count": 21,
   "metadata": {},
   "outputs": [],
   "source": [
    "# 1. Genrate random solution\n",
    "agents = [random_sol() for i in range(n_population)]\n",
    "best_agent_iter = []\n",
    "best_fit_iter = []"
   ]
  },
  {
   "cell_type": "code",
   "execution_count": 22,
   "metadata": {},
   "outputs": [
    {
     "name": "stdout",
     "output_type": "stream",
     "text": [
      "epoch: 0 : best fit = 0.42857142857142855\n",
      "epoch: 1 : best fit = 0.42857142857142855\n",
      "epoch: 2 : best fit = 0.42857142857142855\n",
      "epoch: 3 : best fit = 0.42857142857142855\n",
      "epoch: 4 : best fit = 0.42857142857142855\n",
      "epoch: 5 : best fit = 0.42857142857142855\n",
      "epoch: 6 : best fit = 0.42857142857142855\n",
      "epoch: 7 : best fit = 0.42857142857142855\n",
      "epoch: 8 : best fit = 0.44841269841269843\n",
      "epoch: 9 : best fit = 0.4444444444444444\n"
     ]
    }
   ],
   "source": [
    "for i in range(epoch):\n",
    "    # 2. Fitness measurement\n",
    "    fits = [fitness(x) for x in agents]\n",
    "    best_agent = agents[np.argmin(fits)]\n",
    "    best_agent_iter.append(best_agent)\n",
    "    best_fit_iter.append(fits[np.argmin(fits)])\n",
    "    \n",
    "    # set all agents to move closer to the best agent\n",
    "    agents = [x+((x-best_agent)*learning_rate) for x in agents]\n",
    "    \n",
    "    # add random motion to best_agent\n",
    "    random_agent = agents[np.random.choice(len(agents))]\n",
    "    agents[np.argmin(fits)] += (random_agent - best_agent) * learning_rate / 10\n",
    "    \n",
    "    print(f\"epoch: {i} : best fit = {np.min(fits)}\")"
   ]
  },
  {
   "cell_type": "markdown",
   "metadata": {},
   "source": [
    "___"
   ]
  },
  {
   "cell_type": "markdown",
   "metadata": {},
   "source": [
    "Explain the output"
   ]
  },
  {
   "cell_type": "code",
   "execution_count": 23,
   "metadata": {},
   "outputs": [],
   "source": [
    "final_jadwal = to_dataframe(best_agent_iter[np.argmin(best_fit_iter)])"
   ]
  },
  {
   "cell_type": "code",
   "execution_count": 24,
   "metadata": {},
   "outputs": [
    {
     "data": {
      "text/html": [
       "<div>\n",
       "<style scoped>\n",
       "    .dataframe tbody tr th:only-of-type {\n",
       "        vertical-align: middle;\n",
       "    }\n",
       "\n",
       "    .dataframe tbody tr th {\n",
       "        vertical-align: top;\n",
       "    }\n",
       "\n",
       "    .dataframe thead th {\n",
       "        text-align: right;\n",
       "    }\n",
       "</style>\n",
       "<table border=\"1\" class=\"dataframe\">\n",
       "  <thead>\n",
       "    <tr style=\"text-align: right;\">\n",
       "      <th></th>\n",
       "      <th>dp1</th>\n",
       "      <th>dp2</th>\n",
       "      <th>ruang</th>\n",
       "      <th>slot</th>\n",
       "    </tr>\n",
       "  </thead>\n",
       "  <tbody>\n",
       "    <tr>\n",
       "      <th>0</th>\n",
       "      <td>1</td>\n",
       "      <td>1</td>\n",
       "      <td>7</td>\n",
       "      <td>3</td>\n",
       "    </tr>\n",
       "    <tr>\n",
       "      <th>1</th>\n",
       "      <td>0</td>\n",
       "      <td>1</td>\n",
       "      <td>5</td>\n",
       "      <td>19</td>\n",
       "    </tr>\n",
       "    <tr>\n",
       "      <th>2</th>\n",
       "      <td>1</td>\n",
       "      <td>1</td>\n",
       "      <td>8</td>\n",
       "      <td>6</td>\n",
       "    </tr>\n",
       "    <tr>\n",
       "      <th>3</th>\n",
       "      <td>0</td>\n",
       "      <td>1</td>\n",
       "      <td>10</td>\n",
       "      <td>4</td>\n",
       "    </tr>\n",
       "    <tr>\n",
       "      <th>4</th>\n",
       "      <td>0</td>\n",
       "      <td>0</td>\n",
       "      <td>8</td>\n",
       "      <td>9</td>\n",
       "    </tr>\n",
       "    <tr>\n",
       "      <th>...</th>\n",
       "      <td>...</td>\n",
       "      <td>...</td>\n",
       "      <td>...</td>\n",
       "      <td>...</td>\n",
       "    </tr>\n",
       "    <tr>\n",
       "      <th>119</th>\n",
       "      <td>0</td>\n",
       "      <td>1</td>\n",
       "      <td>1</td>\n",
       "      <td>10</td>\n",
       "    </tr>\n",
       "    <tr>\n",
       "      <th>120</th>\n",
       "      <td>0</td>\n",
       "      <td>1</td>\n",
       "      <td>8</td>\n",
       "      <td>11</td>\n",
       "    </tr>\n",
       "    <tr>\n",
       "      <th>121</th>\n",
       "      <td>1</td>\n",
       "      <td>1</td>\n",
       "      <td>7</td>\n",
       "      <td>11</td>\n",
       "    </tr>\n",
       "    <tr>\n",
       "      <th>122</th>\n",
       "      <td>0</td>\n",
       "      <td>1</td>\n",
       "      <td>2</td>\n",
       "      <td>8</td>\n",
       "    </tr>\n",
       "    <tr>\n",
       "      <th>123</th>\n",
       "      <td>1</td>\n",
       "      <td>1</td>\n",
       "      <td>3</td>\n",
       "      <td>0</td>\n",
       "    </tr>\n",
       "  </tbody>\n",
       "</table>\n",
       "<p>124 rows × 4 columns</p>\n",
       "</div>"
      ],
      "text/plain": [
       "     dp1  dp2  ruang  slot\n",
       "0      1    1      7     3\n",
       "1      0    1      5    19\n",
       "2      1    1      8     6\n",
       "3      0    1     10     4\n",
       "4      0    0      8     9\n",
       "..   ...  ...    ...   ...\n",
       "119    0    1      1    10\n",
       "120    0    1      8    11\n",
       "121    1    1      7    11\n",
       "122    0    1      2     8\n",
       "123    1    1      3     0\n",
       "\n",
       "[124 rows x 4 columns]"
      ]
     },
     "execution_count": 24,
     "metadata": {},
     "output_type": "execute_result"
    }
   ],
   "source": [
    "final_jadwal"
   ]
  },
  {
   "cell_type": "code",
   "execution_count": null,
   "metadata": {},
   "outputs": [],
   "source": []
  }
 ],
 "metadata": {
  "kernelspec": {
   "display_name": "Tensorflow",
   "language": "python",
   "name": "tf"
  },
  "language_info": {
   "codemirror_mode": {
    "name": "ipython",
    "version": 3
   },
   "file_extension": ".py",
   "mimetype": "text/x-python",
   "name": "python",
   "nbconvert_exporter": "python",
   "pygments_lexer": "ipython3",
   "version": "3.8.3"
  }
 },
 "nbformat": 4,
 "nbformat_minor": 4
}
